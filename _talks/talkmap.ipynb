{
 "cells": [
  {
   "cell_type": "markdown",
   "metadata": {},
   "source": [
    "# Leaflet cluster map of talk locations\n",
    "\n",
    "Run this from the _talks/ directory, which contains .md files of all your talks. This scrapes the location YAML field from each .md file, geolocates it with geopy/Nominatim, and uses the getorg library to output data, HTML, and Javascript for a standalone cluster map."
   ]
  },
  {
   "cell_type": "code",
   "execution_count": 12,
   "metadata": {
    "ExecuteTime": {
     "end_time": "2022-03-11T02:15:35.730454Z",
     "start_time": "2022-03-11T02:15:35.722114Z"
    }
   },
   "outputs": [],
   "source": [
    "# !pip install getorg --upgrade\n",
    "import glob\n",
    "import getorg\n",
    "from geopy import Nominatim"
   ]
  },
  {
   "cell_type": "code",
   "execution_count": 13,
   "metadata": {
    "ExecuteTime": {
     "end_time": "2022-03-11T02:15:36.659549Z",
     "start_time": "2022-03-11T02:15:36.656343Z"
    }
   },
   "outputs": [],
   "source": [
    "g = glob.glob(\"*.md\")"
   ]
  },
  {
   "cell_type": "code",
   "execution_count": 14,
   "metadata": {
    "ExecuteTime": {
     "end_time": "2022-03-11T02:15:37.337208Z",
     "start_time": "2022-03-11T02:15:37.323936Z"
    }
   },
   "outputs": [
    {
     "data": {
      "text/plain": [
       "['talk-1.md', 'talk-2.md', 'talk-3.md', 'talk-4.md']"
      ]
     },
     "execution_count": 14,
     "metadata": {},
     "output_type": "execute_result"
    }
   ],
   "source": [
    "g"
   ]
  },
  {
   "cell_type": "code",
   "execution_count": 15,
   "metadata": {
    "ExecuteTime": {
     "end_time": "2022-03-11T02:15:38.106556Z",
     "start_time": "2022-03-11T02:15:38.101123Z"
    }
   },
   "outputs": [],
   "source": [
    "geocoder = Nominatim(user_agent=\"talk_loc\")\n",
    "location_dict = {}\n",
    "location = \"\"\n",
    "permalink = \"\"\n",
    "title = \"\""
   ]
  },
  {
   "cell_type": "code",
   "execution_count": 16,
   "metadata": {
    "ExecuteTime": {
     "end_time": "2022-03-11T02:15:42.142282Z",
     "start_time": "2022-03-11T02:15:38.869512Z"
    }
   },
   "outputs": [
    {
     "name": "stdout",
     "output_type": "stream",
     "text": [
      "New Orleans, USA \n",
      " New Orleans, Orleans Parish, Louisiana, 70116:70119, United States\n",
      "Seattle, USA \n",
      " Seattle, King County, Washington, United States\n",
      "Shanghai, China \n",
      " 上海市, 黄浦区, 上海市, 200001, 中国\n",
      "Kashiwa, Japan \n",
      " 柏市, 千葉県, 日本\n"
     ]
    }
   ],
   "source": [
    "\n",
    "for file in g:\n",
    "    with open(file, 'r') as f:\n",
    "        lines = f.read()\n",
    "        if lines.find('location: \"') > 1:\n",
    "            loc_start = lines.find('location: \"') + 11\n",
    "            lines_trim = lines[loc_start:]\n",
    "            loc_end = lines_trim.find('\"')\n",
    "            location = lines_trim[:loc_end]\n",
    "                            \n",
    "           \n",
    "        location_dict[location] = geocoder.geocode(location)\n",
    "        print(location, \"\\n\", location_dict[location])\n"
   ]
  },
  {
   "cell_type": "code",
   "execution_count": 17,
   "metadata": {
    "ExecuteTime": {
     "end_time": "2022-03-11T02:15:45.100778Z",
     "start_time": "2022-03-11T02:15:45.094113Z"
    }
   },
   "outputs": [
    {
     "data": {
      "text/plain": [
       "{'New Orleans, USA': Location(New Orleans, Orleans Parish, Louisiana, 70116:70119, United States, (29.9759983, -90.0782127, 0.0)),\n",
       " 'Seattle, USA': Location(Seattle, King County, Washington, United States, (47.6038321, -122.3300624, 0.0)),\n",
       " 'Shanghai, China': Location(上海市, 黄浦区, 上海市, 200001, 中国, (31.2322758, 121.4692071, 0.0)),\n",
       " 'Kashiwa, Japan': Location(柏市, 千葉県, 日本, (35.8676218, 139.9756876, 0.0))}"
      ]
     },
     "execution_count": 17,
     "metadata": {},
     "output_type": "execute_result"
    }
   ],
   "source": [
    "location_dict"
   ]
  },
  {
   "cell_type": "code",
   "execution_count": 18,
   "metadata": {
    "ExecuteTime": {
     "end_time": "2022-03-11T02:15:46.476334Z",
     "start_time": "2022-03-11T02:15:46.460263Z"
    }
   },
   "outputs": [
    {
     "data": {
      "text/plain": [
       "'Written map to ../talkmap/'"
      ]
     },
     "execution_count": 18,
     "metadata": {},
     "output_type": "execute_result"
    }
   ],
   "source": [
    "m = getorg.orgmap.create_map_obj()\n",
    "getorg.orgmap.output_html_cluster_map(location_dict, folder_name=\"../talkmap\", hashed_usernames=False)"
   ]
  },
  {
   "cell_type": "code",
   "execution_count": null,
   "metadata": {
    "collapsed": true
   },
   "outputs": [],
   "source": []
  }
 ],
 "metadata": {
  "anaconda-cloud": {},
  "kernelspec": {
   "display_name": "Python 3 (ipykernel)",
   "language": "python",
   "name": "python3"
  },
  "language_info": {
   "codemirror_mode": {
    "name": "ipython",
    "version": 3
   },
   "file_extension": ".py",
   "mimetype": "text/x-python",
   "name": "python",
   "nbconvert_exporter": "python",
   "pygments_lexer": "ipython3",
   "version": "3.8.10"
  }
 },
 "nbformat": 4,
 "nbformat_minor": 1
}
