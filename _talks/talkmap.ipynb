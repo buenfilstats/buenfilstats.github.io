{
 "cells": [
  {
   "cell_type": "markdown",
   "metadata": {},
   "source": [
    "# Leaflet cluster map of talk locations\n",
    "\n",
    "Run this from the _talks/ directory, which contains .md files of all your talks. This scrapes the location YAML field from each .md file, geolocates it with geopy/Nominatim, and uses the getorg library to output data, HTML, and Javascript for a standalone cluster map."
   ]
  },
  {
   "cell_type": "code",
   "execution_count": 1,
   "metadata": {
    "ExecuteTime": {
     "end_time": "2022-09-22T01:19:31.751761Z",
     "start_time": "2022-09-22T01:19:30.680528Z"
    }
   },
   "outputs": [
    {
     "name": "stdout",
     "output_type": "stream",
     "text": [
      "IPywidgets and ipyleaflet support enabled.\n"
     ]
    }
   ],
   "source": [
    "# !pip install getorg --upgrade\n",
    "import glob\n",
    "import getorg\n",
    "from geopy import Nominatim"
   ]
  },
  {
   "cell_type": "code",
   "execution_count": 2,
   "metadata": {
    "ExecuteTime": {
     "end_time": "2022-09-22T01:19:31.756504Z",
     "start_time": "2022-09-22T01:19:31.753679Z"
    }
   },
   "outputs": [],
   "source": [
    "g = glob.glob(\"*.md\")"
   ]
  },
  {
   "cell_type": "code",
   "execution_count": 3,
   "metadata": {
    "ExecuteTime": {
     "end_time": "2022-09-22T01:19:32.446375Z",
     "start_time": "2022-09-22T01:19:32.427157Z"
    }
   },
   "outputs": [
    {
     "data": {
      "text/plain": [
       "['talk-1.md', 'talk-2.md', 'talk-3.md', 'talk-4.md', 'talk-5.md']"
      ]
     },
     "execution_count": 3,
     "metadata": {},
     "output_type": "execute_result"
    }
   ],
   "source": [
    "g"
   ]
  },
  {
   "cell_type": "code",
   "execution_count": 4,
   "metadata": {
    "ExecuteTime": {
     "end_time": "2022-09-22T01:19:33.260357Z",
     "start_time": "2022-09-22T01:19:33.254795Z"
    }
   },
   "outputs": [],
   "source": [
    "geocoder = Nominatim(user_agent=\"talk_loc\")\n",
    "location_dict = {}\n",
    "location = \"\"\n",
    "permalink = \"\"\n",
    "title = \"\""
   ]
  },
  {
   "cell_type": "code",
   "execution_count": 5,
   "metadata": {
    "ExecuteTime": {
     "end_time": "2022-09-22T01:19:36.356328Z",
     "start_time": "2022-09-22T01:19:34.061209Z"
    }
   },
   "outputs": [
    {
     "name": "stdout",
     "output_type": "stream",
     "text": [
      "New Orleans, USA \n",
      " New Orleans, Orleans Parish, Louisiana, United States\n",
      "Seattle, USA \n",
      " Seattle, King County, Washington, United States\n",
      "Shanghai, China \n",
      " 上海市, 中国\n",
      "Kashiwa, Japan \n",
      " 柏市, 千葉県, 日本\n",
      "Guangzhou, China \n",
      " 广州市, 广东省, 中国\n"
     ]
    }
   ],
   "source": [
    "\n",
    "for file in g:\n",
    "    with open(file, 'r') as f:\n",
    "        lines = f.read()\n",
    "        if lines.find('location: \"') > 1:\n",
    "            loc_start = lines.find('location: \"') + 11\n",
    "            lines_trim = lines[loc_start:]\n",
    "            loc_end = lines_trim.find('\"')\n",
    "            location = lines_trim[:loc_end]\n",
    "                            \n",
    "           \n",
    "        location_dict[location] = geocoder.geocode(location)\n",
    "        print(location, \"\\n\", location_dict[location])\n"
   ]
  },
  {
   "cell_type": "code",
   "execution_count": 6,
   "metadata": {
    "ExecuteTime": {
     "end_time": "2022-09-22T01:19:36.374655Z",
     "start_time": "2022-09-22T01:19:36.363406Z"
    }
   },
   "outputs": [
    {
     "data": {
      "text/plain": [
       "{'New Orleans, USA': Location(New Orleans, Orleans Parish, Louisiana, United States, (29.9759983, -90.0782127, 0.0)),\n",
       " 'Seattle, USA': Location(Seattle, King County, Washington, United States, (47.6038321, -122.330062, 0.0)),\n",
       " 'Shanghai, China': Location(上海市, 中国, (31.2322758, 121.4692071, 0.0)),\n",
       " 'Kashiwa, Japan': Location(柏市, 千葉県, 日本, (35.8676218, 139.9756876, 0.0)),\n",
       " 'Guangzhou, China': Location(广州市, 广东省, 中国, (23.1301964, 113.2592945, 0.0))}"
      ]
     },
     "execution_count": 6,
     "metadata": {},
     "output_type": "execute_result"
    }
   ],
   "source": [
    "location_dict"
   ]
  },
  {
   "cell_type": "code",
   "execution_count": 7,
   "metadata": {
    "ExecuteTime": {
     "end_time": "2022-09-22T01:19:36.512063Z",
     "start_time": "2022-09-22T01:19:36.379956Z"
    }
   },
   "outputs": [
    {
     "data": {
      "text/plain": [
       "'Written map to ../talkmap/'"
      ]
     },
     "execution_count": 7,
     "metadata": {},
     "output_type": "execute_result"
    }
   ],
   "source": [
    "m = getorg.orgmap.create_map_obj()\n",
    "getorg.orgmap.output_html_cluster_map(location_dict, folder_name=\"../talkmap\", hashed_usernames=False)"
   ]
  },
  {
   "cell_type": "code",
   "execution_count": null,
   "metadata": {},
   "outputs": [],
   "source": []
  }
 ],
 "metadata": {
  "anaconda-cloud": {},
  "kernelspec": {
   "display_name": "Python 3 (ipykernel)",
   "language": "python",
   "name": "python3"
  },
  "language_info": {
   "codemirror_mode": {
    "name": "ipython",
    "version": 3
   },
   "file_extension": ".py",
   "mimetype": "text/x-python",
   "name": "python",
   "nbconvert_exporter": "python",
   "pygments_lexer": "ipython3",
   "version": "3.8.10"
  }
 },
 "nbformat": 4,
 "nbformat_minor": 1
}
